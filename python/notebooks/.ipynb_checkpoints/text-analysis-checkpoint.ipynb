{
 "cells": [
  {
   "cell_type": "markdown",
   "metadata": {
    "collapsed": true
   },
   "source": [
    "OK. We've spent some time thinking about how to get and work with data, but we haven't really touched on what you can do with data once you have it. The reason for this is that data munging and data analysis are really two separate concepts in their own way. And the kinds of analysis you can perform on data are as vast as the types of data you could find. As a digital humanist, you might be interested in any number of things: georeferencing, statistical measurements, network analysis, or many more. And, then, once you've analyzed things, you'll likely want to visualize your results. For the purposes of showing you what you can do with Python, we will just barely scratch the surface of these areas by showing some very basic methods. We will then visualize our results, which will hopefully show how you can use programming to carry out interpretations. Our goal here will be to use some of the data from the previous lesson on web scraping. Since the previous data was text, we will be working with basic text analysis to analyze author style by word counts."
   ]
  },
  {
   "cell_type": "markdown",
   "metadata": {},
   "source": [
    "First let's get the data we need by copying over some of the work that we did last time. First we will import the modules that we need. Then we will use Beautiful Soup to scrape down the corpus. Be sure to check out the previous lesson or ask a neighbor if you have any questions about what any of these lines are doing. This will take a few moments."
   ]
  },
  {
   "cell_type": "code",
   "execution_count": 15,
   "metadata": {
    "collapsed": true
   },
   "outputs": [],
   "source": [
    "from bs4 import BeautifulSoup\n",
    "from contextlib import closing\n",
    "from urllib import request\n",
    "\n",
    "url = \"https://raw.githubusercontent.com/humanitiesprogramming/scraping-corpus/master/full-text.txt\"\n",
    "html = request.urlopen(url).read()\n",
    "soup = BeautifulSoup(html, 'lxml')\n",
    "raw_text = soup.text\n",
    "texts = eval(soup.text)"
   ]
  },
  {
   "cell_type": "markdown",
   "metadata": {},
   "source": [
    "The eval() function is new here, and it tells Python to take a string it is passed and interpret it as code. Beautiful Soup pulls down the contents of a website, but it assumes that the result of soup.text is going to be a string. If you actually look at the contents of that link, though, you'll see that I dumped the contents of the texts as a list of texts. So we need to interpret that big long text file as code, and Python can help us do that. Calling eval on it looks for special characters like the [], which indicate lists, and runs Python on it as expected. To actually work with this code again. We can prove that this is going on by taking the length of our two different versions of the soup results:"
   ]
  },
  {
   "cell_type": "code",
   "execution_count": 16,
   "metadata": {
    "collapsed": false
   },
   "outputs": [
    {
     "name": "stdout",
     "output_type": "stream",
     "text": [
      "4398113\n",
      "10\n"
     ]
    }
   ],
   "source": [
    "print(len(raw_text))\n",
    "print(len(texts))"
   ]
  },
  {
   "cell_type": "markdown",
   "metadata": {},
   "source": [
    "The first len() function is way larger, as it is taking the length of a giant string. So it returns the total number of characters in the collected text. The second statement gives us the expected result \"10\", because it is measuring the length of our list of texts. We have 10 of them. As always, it is important that we remember what data types we have and when we have them."
   ]
  },
  {
   "cell_type": "markdown",
   "metadata": {},
   "source": [
    "Now that we have our data, we can start processing it as text. The package we are using is NLTK, the Natural Language Toolkit, which is something of a Swiss army knife for text analysis. Other packages might give you better baked in functionality, but NLTK is great for learning because it expects that you'll be working your own text functions from scratch. It also has a fantastic [text book](https://nltk.org/book) that I often use for teaching text analysis. The exercises rapidly engage you in real-world text questions. Let's start by importing what we'll need:"
   ]
  },
  {
   "cell_type": "code",
   "execution_count": 17,
   "metadata": {
    "collapsed": false
   },
   "outputs": [],
   "source": [
    "import nltk\n",
    "from nltk import word_tokenize"
   ]
  },
  {
   "cell_type": "markdown",
   "metadata": {},
   "source": [
    "NLTK is a massive package, with lots of moving pieces. We'll be calling lots of lower-level functions, so expect to do a lot of dot typing. The second line here is a way of shortening that process so that instead of typing nltk.word_tokenize a lot we can just type word_tokenize. "
   ]
  },
  {
   "cell_type": "markdown",
   "metadata": {},
   "source": [
    "How fun! But wait, something is going on here - this text looks different than the raw text that we have. As we've been learning all along, computers have to work with structured data. By default, humanities texts are pretty darn unstructured. The goal in this lesson is to take unstructured text data and turn it into something that a program could read. We'll take this:\n",
    "\n",
    "Moby Dick\n",
    "by\n",
    "Herman Melville\n",
    "1851\n",
    "ETYMOLOGY.\n",
    "\n",
    "and turn it into this:\n",
    "\n",
    "['[',\n",
    " 'Moby',\n",
    " 'Dick',\n",
    " 'by',\n",
    " 'Herman',\n",
    " 'Melville',\n",
    " '1851',\n",
    " ']',\n",
    " 'ETYMOLOGY',\n",
    " '.']\n",
    "\n",
    "\n",
    "We're trying to take that text and turn it into a list, or a list of lists. We could think of any number of ways to structure a text, but the way done here is to break that text down into smaller units:\n",
    "\n",
    "* A text is made of many sentences. (Breaking down texts into sentences is called **segmentation**)\n",
    "* A Sentence is made of many words. (Breaking a large text into words is called **tokenization**, and those words become called **tokens**.\n",
    "\n",
    "Of course, this process quickly becomes subject to interpretation: are you going to count punctuation as tokens? The pre-packaged NLTK texts come with a lot of those decisions already made. We're going to go through the whole process ourselves so that you have a sense of how each part of it works. Here are the steps for the one we'll be using:\n",
    "\n",
    "* tokenization\n",
    "* normalization\n",
    "* removing stopwords\n",
    "* analysis\n",
    "* visualization\n",
    "\n",
    "Those are some basics, but, depending on your interests, you might have more steps. You might, for example care about sentence boundaries. Or, you might be interested in tagging the part of speech for each word. The process will change depending on your interests."
   ]
  },
  {
   "cell_type": "markdown",
   "metadata": {},
   "source": [
    "## Tokenization\n",
    "\n",
    "The first step in our process is to break the text into smaller units that we can work with. In any tokenization process, you have to decide what kinds of things count as tokens - does punctuation count? How do we deal with word boundaries? You could tokenize things yourself, but it's not necessary to reinvent the wheel. We'll use NLTK to tokenize for us. \n",
    "\n",
    "This will take a bit of time to process, as we're working with a lot of text. So that you know things aren't broken, I've included a timer that prints out as it moves through each text."
   ]
  },
  {
   "cell_type": "code",
   "execution_count": 67,
   "metadata": {
    "collapsed": false,
    "scrolled": true
   },
   "outputs": [
    {
     "name": "stdout",
     "output_type": "stream",
     "text": [
      "=====\n",
      "128254\n",
      "['Project', 'Gutenberg', \"'s\", 'The', 'Return', 'of', 'Sherlock', 'Holmes', ',', 'by', 'Arthur', 'Conan', 'DoyleThis', 'eBook', 'is', 'for', 'the', 'use', 'of', 'anyone']\n",
      "=====\n",
      "119498\n",
      "['Project', 'Gutenberg', \"'s\", 'The', 'Adventures', 'of', 'Sherlock', 'Holmes', ',', 'by', 'Arthur', 'Conan', 'DoyleThis', 'eBook', 'is', 'for', 'the', 'use', 'of', 'anyone']\n",
      "=====\n",
      "52136\n",
      "['The', 'Project', 'Gutenberg', 'EBook', 'of', 'A', 'Study', 'In', 'Scarlet', ',', 'by', 'Arthur', 'Conan', 'DoyleThis', 'eBook', 'is', 'for', 'the', 'use', 'of']\n",
      "=====\n",
      "67933\n",
      "['Project', 'Gutenberg', \"'s\", 'The', 'Hound', 'of', 'the', 'Baskervilles', ',', 'by', 'A.', 'Conan', 'DoyleThis', 'eBook', 'is', 'for', 'the', 'use', 'of', 'anyone']\n",
      "=====\n",
      "54520\n",
      "['The', 'Project', 'Gutenberg', 'EBook', 'of', 'The', 'Sign', 'of', 'the', 'Four', ',', 'by', 'Arthur', 'Conan', 'DoyleThis', 'eBook', 'is', 'for', 'the', 'use']\n",
      "=====\n",
      "214696\n",
      "['Jane', 'Eyre', ',', 'by', 'Charlotte', 'BronteThe', 'Project', 'Gutenberg', 'eBook', ',', 'Jane', 'Eyre', ',', 'by', 'Charlotte', 'Bronte', ',', 'Illustratedby', 'F.', 'H.']\n",
      "=====\n",
      "113812\n",
      "['The', 'Project', 'Gutenberg', 'EBook', 'of', 'Villette', ',', 'by', 'Charlotte', 'BrontëThis', 'eBook', 'is', 'for', 'the', 'use', 'of', 'anyone', 'anywhere', 'at', 'no']\n",
      "=====\n",
      "12814\n",
      "['Project', 'Gutenberg', \"'s\", 'The', 'Search', 'After', 'Happiness', ',', 'by', 'Charlotte', 'BronteThis', 'eBook', 'is', 'for', 'the', 'use', 'of', 'anyone', 'anywhere', 'in']\n",
      "=====\n",
      "136931\n",
      "['The', 'Project', 'Gutenberg', 'EBook', 'of', 'Shirley', ',', 'by', 'Charlotte', 'BrontëThis', 'eBook', 'is', 'for', 'the', 'use', 'of', 'anyone', 'anywhere', 'at', 'no']\n",
      "=====\n",
      "12814\n",
      "['Project', 'Gutenberg', \"'s\", 'The', 'Search', 'After', 'Happiness', ',', 'by', 'Charlotte', 'BronteThis', 'eBook', 'is', 'for', 'the', 'use', 'of', 'anyone', 'anywhere', 'in']\n"
     ]
    }
   ],
   "source": [
    "tokenized_texts = []\n",
    "for text in texts:\n",
    "    tokenized_texts.append(word_tokenize(text))\n",
    "\n",
    "for tokenized_text in tokenized_texts:\n",
    "    print('=====')\n",
    "    print(len(tokenized_text))\n",
    "    print(tokenized_text[0:20])\n"
   ]
  },
  {
   "cell_type": "markdown",
   "metadata": {},
   "source": [
    "Success! We've got a series of texts, all of which are tokenized. But wow those are big numbers. Lots of words! Five texts by Charlotte Bronte and five by Sir Arthur Conan Doyle. Let's get a little more organized by separating the two corpora by author"
   ]
  },
  {
   "cell_type": "code",
   "execution_count": 69,
   "metadata": {
    "collapsed": false
   },
   "outputs": [
    {
     "name": "stdout",
     "output_type": "stream",
     "text": [
      "5\n",
      "5\n"
     ]
    }
   ],
   "source": [
    "doyle = tokenized_texts[:5]\n",
    "bronte = tokenized_texts[5:]\n",
    "\n",
    "print(len(doyle))\n",
    "print(len(bronte))"
   ]
  },
  {
   "cell_type": "markdown",
   "metadata": {},
   "source": [
    "## Normalization\n",
    "\n",
    "Humanities data is messy. And as we've often noted, computers don't deal with mess well. We'll take a few steps to help our friendly neighborhood computer. We'll do two things here:\n",
    "\n",
    "* lowercase all words (for a computer, \"The\" is a different word from \"the\")\n",
    "* remove the Project Gutenberg frontmatter (you may have noticed that all the texts above started the same way)\n",
    "\n",
    "For the second one, Project Gutenberg actually makes things a little tricky. Their frontmatter is not consistent from text to text. We can grab nine of our texts by using the following phrases: \"START OF THIS PROJECT GUTENBERG EBOOK.\" This won't perfectly massage out all the frontmatter, but for the sake of simplicity I will leave it as is. For the sake of practice, we'll be defining a function for doing these things."
   ]
  },
  {
   "cell_type": "code",
   "execution_count": 20,
   "metadata": {
    "collapsed": false
   },
   "outputs": [
    {
     "name": "stdout",
     "output_type": "stream",
     "text": [
      "['us-ascii', ')', '***start', 'of', 'the', 'project', 'gutenberg', 'ebook', 'jane', 'eyre***transcribed', 'from', 'the', '1897', 'service', '&', 'paton', 'edition', 'by', 'david', 'price', ',', 'email', 'ccx074', '@', 'pglaf.orgjane', 'eyrean', 'autobiographybycharlotte', 'brontëillustrated', 'by', 'f.', 'h.', 'townsendlondonservice', '&', 'paton5', 'henrietta', 'street1897the', 'illustrationsin', 'this', 'volume', 'are', 'the', 'copyright', 'ofservice', '&', 'paton', ',', 'londontow', '.', 'm.', 'thackeray', ',', 'esq.', ',', 'this', 'workis', 'respectfully', 'inscribedbythe', 'authorprefacea', 'preface', 'to', 'the', 'first', 'edition', 'of', '“jane', 'eyre”', 'being', 'unnecessary', ',', 'i', 'gave', 'none', ':', 'this', 'second', 'edition', 'demands', 'a', 'few', 'words', 'both', 'of', 'acknowledgment', 'and', 'miscellaneous', 'remark.my', 'thanks', 'are', 'due', 'in', 'three', 'quarters.to', 'the', 'public', ',', 'for', 'the', 'indulgent', 'ear', 'it', 'has', 'inclined', 'to', 'a', 'plain', 'tale', 'with', 'few', 'pretensions.to', 'the', 'press', ',', 'for', 'the', 'fair', 'field', 'its', 'honest', 'suffrage', 'has', 'opened', 'to', 'an', 'obscure', 'aspirant.to', 'my', 'publishers', ',', 'for', 'the', 'aid', 'their', 'tact', ',', 'their', 'energy', ',', 'their', 'practical', 'sense', 'and', 'frank', 'liberality', 'have', 'afforded', 'an', 'unknown', 'and', 'unrecommended', 'author.the', 'press', 'and', 'the', 'public', 'are', 'but', 'vague', 'personifications', 'for', 'me', ',', 'and', 'i', 'must', 'thank', 'them', 'in', 'vague', 'terms', ';', 'but', 'my', 'publishers', 'are', 'definite', ':', 'so', 'are', 'certain', 'generous', 'critics', 'who', 'have', 'encouraged', 'me', 'as', 'only', 'large-hearted', 'and', 'high-minded', 'men', 'know', 'how', 'to', 'encourage', 'a', 'struggling', 'stranger', ';', 'to']\n",
      "['mighty', 'victories', 'of', 'the', 'lamb', ',', 'who', 'are', 'called', ',', 'and', 'chosen', ',', 'and', 'faithful.st', '.', 'john', 'is', 'unmarried', ':', 'he', 'never', 'will', 'marry', 'now', '.', 'himself', 'has', 'hitherto', 'sufficed', 'to', 'the', 'toil', ',', 'and', 'the', 'toil', 'draws', 'near', 'its', 'close', ':', 'his', 'glorious', 'sun', 'hastens', 'to', 'its', 'setting', '.', 'the', 'last', 'letter', 'i', 'received', 'from', 'him', 'drew', 'from', 'my', 'eyes', 'human', 'tears', ',', 'and', 'yet', 'filled', 'my', 'heart', 'with', 'divine', 'joy', ':', 'he', 'anticipated', 'his', 'sure', 'reward', ',', 'his', 'incorruptible', 'crown', '.', 'i', 'know', 'that', 'a', 'stranger’s', 'hand', 'will', 'write', 'to', 'me', 'next', ',', 'to', 'say', 'that', 'the', 'good', 'and', 'faithful', 'servant', 'has', 'been', 'called', 'at', 'length', 'into', 'the', 'joy', 'of', 'his', 'lord', '.', 'and', 'why', 'weep', 'for', 'this', '?', 'no', 'fear', 'of', 'death', 'will', 'darken', 'st.', 'john’s', 'last', 'hour', ':', 'his', 'mind', 'will', 'be', 'unclouded', ',', 'his', 'heart', 'will', 'be', 'undaunted', ',', 'his', 'hope', 'will', 'be', 'sure', ',', 'his', 'faith', 'steadfast', '.', 'his', 'own', 'words', 'are', 'a', 'pledge', 'of', 'this—“my', 'master', ',', '”', 'he', 'says', ',', '“has', 'forewarned', 'me', '.', 'daily', 'he', 'announces', 'more', 'distinctly', ',', '—‘surely', 'i', 'come', 'quickly', '!', '’', 'and', 'hourly', 'i', 'more', 'eagerly', 'respond', ',', '—‘amen', ';', 'even', 'so', 'come', ',', 'lord', 'jesus', '!']\n"
     ]
    }
   ],
   "source": [
    "def normalize(tokens):\n",
    "    \"\"\"Takes a list of tokens and returns a list of tokens \n",
    "    that has been normalized by lowercasing all tokens and \n",
    "    removing Project Gutenberg frontmatter.\"\"\"\n",
    "    \n",
    "#     lowercase all words\n",
    "    normalized = [token.lower() for token in tokens]\n",
    "    \n",
    "#     very rough end of front matter.\n",
    "    end_of_front_matter = 90\n",
    "#     very rough beginning of end matter.\n",
    "    start_of_end_matter = -2973\n",
    "#     get only the text between the end matter and front matter\n",
    "    normalized = normalized[end_of_front_matter:start_of_end_matter]\n",
    "\n",
    "    return normalized\n",
    "\n",
    "print(normalize(bronte[0])[:200])\n",
    "print(normalize(bronte[0])[-200:])"
   ]
  },
  {
   "cell_type": "markdown",
   "metadata": {},
   "source": [
    "Above I've printed about the first 200 and the last 200 words of Jane Eyre to see how we're doing. Pretty rough! That's because we're mostly just guessing where the beginning and the ending of the actual text is. The problem here is that PG changes the structure of its paratext for each text, so we would need something pretty sophisticated to work through it cleanly. If you wanted a more refined approach, you could [this package](https://pypi.python.org/pypi/Gutenberg), though it has enough installation requirements that we didn't want to deal with it in this course. Essentially, it uses a lot of complicated formulae to determine how to strip off the gutenberg material. They use a syntax called **regular expressions** that is (thankfully) out of the scope of this course. For now, we'll just accept our rough cut with the understanding that we would want to clean things up more were we working on our own. \n",
    "\n",
    "Let's normalize everything with these caveats in mind. Below, we essentially say,\n",
    "\n",
    "* Go through each in the list of texts\n",
    "* For each of those texts, normalize the text in them using the function we defined above.\n",
    "* Take the results of that normalization process and make a new list out of them.\n",
    "* The result will be a list of normalized tokens stored in a variable of the same name as the original list."
   ]
  },
  {
   "cell_type": "code",
   "execution_count": null,
   "metadata": {
    "collapsed": false
   },
   "outputs": [],
   "source": [
    "doyle = [normalize(text) for text in doyle]\n",
    "bronte = [normalize(text) for text in bronte]\n",
    "\n",
    "print(doyle[0][:30])"
   ]
  },
  {
   "cell_type": "markdown",
   "metadata": {},
   "source": [
    "## Removing Stopwords\n",
    "\n",
    "The last step in this basic text analysis pipeline is to remove those words that we don't care about. The most common words in any text are articles, pronouns, and punctuation, words that might not carry a lot of information in them about the text themselves. While there are sometimes good reasons for keeping this list of **stopwords** in the text, we usually take them out to get a better read of things we actually care about in a text. NLTK actually comes with a big packet of stopwords. Let's import it and take a look:"
   ]
  },
  {
   "cell_type": "code",
   "execution_count": 22,
   "metadata": {
    "collapsed": false
   },
   "outputs": [
    {
     "data": {
      "text/plain": [
       "['i',\n",
       " 'me',\n",
       " 'my',\n",
       " 'myself',\n",
       " 'we',\n",
       " 'our',\n",
       " 'ours',\n",
       " 'ourselves',\n",
       " 'you',\n",
       " 'your',\n",
       " 'yours',\n",
       " 'yourself',\n",
       " 'yourselves',\n",
       " 'he',\n",
       " 'him',\n",
       " 'his',\n",
       " 'himself',\n",
       " 'she',\n",
       " 'her',\n",
       " 'hers',\n",
       " 'herself',\n",
       " 'it',\n",
       " 'its',\n",
       " 'itself',\n",
       " 'they',\n",
       " 'them',\n",
       " 'their',\n",
       " 'theirs',\n",
       " 'themselves',\n",
       " 'what']"
      ]
     },
     "execution_count": 22,
     "metadata": {},
     "output_type": "execute_result"
    }
   ],
   "source": [
    "from nltk.corpus import stopwords\n",
    "\n",
    "stopwords.words('english')[0:30]"
   ]
  },
  {
   "cell_type": "markdown",
   "metadata": {},
   "source": [
    "We'll loop over the cleaned texts and get rid of those words that exist in the stopwords list. To do this, we'll compare both lists.\n",
    "\n",
    "Also grab the count for the text pre-stopwording to make clear how many words are lost when you do this:"
   ]
  },
  {
   "cell_type": "code",
   "execution_count": null,
   "metadata": {
    "collapsed": false
   },
   "outputs": [],
   "source": [
    "def remove_stopwords(tokens):\n",
    "    return [token for token in tokens if token not in stopwords.words('english')]"
   ]
  },
  {
   "cell_type": "markdown",
   "metadata": {},
   "source": [
    "We could loop over each text again, as we have been doing (will take bit of time):"
   ]
  },
  {
   "cell_type": "markdown",
   "metadata": {},
   "source": [
    "print('start cleaning')\n",
    "doyle = [remove_stopwords(text) for text in doyle]\n",
    "print('doyle done')\n",
    "bronte = [remove_stopwords(text) for text in bronte]\n",
    "print('bronte done')\n",
    "\n",
    "print(len(doyle[0]))"
   ]
  },
  {
   "cell_type": "code",
   "execution_count": 66,
   "metadata": {
    "collapsed": false
   },
   "outputs": [
    {
     "name": "stdout",
     "output_type": "stream",
     "text": [
      "4\n",
      "4\n"
     ]
    }
   ],
   "source": [
    "print(len(doyle))\n",
    "print(len(bronte))"
   ]
  },
  {
   "cell_type": "markdown",
   "metadata": {},
   "source": [
    "Before we did all this, this same text had 128254 tokens in it. Now, our text only has 66775 tokens in it. Look how many have been removed because they were common words! Our new text is almost half the size of the original one. We have a much smaller, potentially more meaningful set to work with. We're ready to do some basic analysis. "
   ]
  },
  {
   "cell_type": "markdown",
   "metadata": {},
   "source": [
    "## Analysis\n",
    "\n",
    "While a larger lesson in natural language processing is outside the scope of this workshop, we will cover a few quick things you can do with it here. One thing we can do quite easily is count up the frequencies with which particular words occur in a text. NLTK has a particular way of doing this using an object called a Frequency Distribution, which is exactly what it sounds like. We make a frequency distribution of a text like so:"
   ]
  },
  {
   "cell_type": "code",
   "execution_count": 39,
   "metadata": {
    "collapsed": false,
    "scrolled": true
   },
   "outputs": [
    {
     "data": {
      "text/plain": [
       "[(',', 8293),\n",
       " ('.', 4691),\n",
       " ('?', 823),\n",
       " ('”', 632),\n",
       " ('holmes', 573),\n",
       " ('said', 494),\n",
       " ('one', 419),\n",
       " ('upon', 410),\n",
       " ('would', 404),\n",
       " ('mr.', 388),\n",
       " ('man', 350),\n",
       " ('!', 343),\n",
       " ('could', 331),\n",
       " ('us', 261),\n",
       " ('see', 231),\n",
       " ('watson', 191),\n",
       " ('must', 183),\n",
       " ('room', 174),\n",
       " ('well', 166),\n",
       " ('come', 164)]"
      ]
     },
     "execution_count": 39,
     "metadata": {},
     "output_type": "execute_result"
    }
   ],
   "source": [
    "example = nltk.FreqDist(doyle[0])\n",
    "example.most_common(20)"
   ]
  },
  {
   "cell_type": "markdown",
   "metadata": {},
   "source": [
    "Above, we take the first Doyle text, make a Frequency Distribution out of it, and store it in a variable called example. We can then do frequency distribution things with it, like find the most common words! Let's do this for all our texts:"
   ]
  },
  {
   "cell_type": "code",
   "execution_count": 40,
   "metadata": {
    "collapsed": false
   },
   "outputs": [
    {
     "name": "stdout",
     "output_type": "stream",
     "text": [
      "=====\n",
      "[(',', 8293), ('.', 4691), ('?', 823), ('”', 632), ('holmes', 573), ('said', 494), ('one', 419), ('upon', 410), ('would', 404), ('mr.', 388)]\n",
      "=====\n",
      "=====\n",
      "[(',', 7647), ('.', 3720), ('?', 737), ('”', 652), ('said', 479), ('upon', 463), ('holmes', 384), ('!', 346), ('one', 344), ('would', 324)]\n",
      "=====\n",
      "=====\n",
      "[(',', 2992), ('.', 1773), ('”', 406), ('?', 208), ('said', 200), ('upon', 199), ('one', 149), ('man', 130), ('would', 118), (';', 104)]\n",
      "=====\n",
      "=====\n",
      "[(',', 3435), ('.', 2160), ('?', 518), ('sir', 324), ('upon', 314), ('”', 275), ('said', 239), ('one', 224), ('could', 199), ('man', 194)]\n",
      "=====\n",
      "=====\n",
      "[(',', 14536), ('.', 4405), (';', 3475), (':', 2765), ('?', 1497), ('”', 1044), ('!', 929), ('would', 649), ('one', 542), ('said', 540)]\n",
      "=====\n",
      "=====\n",
      "[(',', 8261), ('.', 3404), ('``', 2078), (';', 1512), (\"''\", 931), (':', 869), ('?', 509), ('!', 405), ('would', 334), (\"'s\", 311)]\n",
      "=====\n",
      "=====\n",
      "[(',', 205), ('.', 169), (\"o'donell\", 64), ('``', 63), ('would', 49), ('time', 37), (\"''\", 35), ('city', 34), ('old', 31), ('light', 30)]\n",
      "=====\n",
      "=====\n",
      "[(',', 9436), ('.', 5203), ('``', 3156), (';', 1561), (\"''\", 1018), ('?', 779), (\"'s\", 561), ('would', 470), ('!', 456), ('mr.', 323)]\n",
      "=====\n"
     ]
    }
   ],
   "source": [
    "doyle_freq_dist = [nltk.FreqDist(text) for text in doyle]\n",
    "bronte_freq_dist = [nltk.FreqDist(text) for text in bronte]\n",
    "\n",
    "def print_top_words(freq_dist_text):\n",
    "    \"\"\"Takes a frequency distribution of a text and prints out the top 10 words in it.\"\"\"\n",
    "    print('=====')\n",
    "    print(freq_dist_text.most_common(10))\n",
    "    print('=====')\n",
    "    \n",
    "for text in doyle_freq_dist:\n",
    "    print_top_words(text)\n",
    "for text in bronte_freq_dist:\n",
    "    print_top_words(text)"
   ]
  },
  {
   "cell_type": "markdown",
   "metadata": {},
   "source": [
    "We can also query particular words:"
   ]
  },
  {
   "cell_type": "code",
   "execution_count": 51,
   "metadata": {
    "collapsed": false,
    "scrolled": true
   },
   "outputs": [
    {
     "name": "stdout",
     "output_type": "stream",
     "text": [
      "573\n"
     ]
    },
    {
     "data": {
      "text/plain": [
       "649"
      ]
     },
     "execution_count": 51,
     "metadata": {},
     "output_type": "execute_result"
    }
   ],
   "source": [
    "print(doyle_freq_dist[0]['holmes'])\n",
    "bronte_freq_dist[0]['would']"
   ]
  },
  {
   "cell_type": "markdown",
   "metadata": {},
   "source": [
    "Let's make a quick function that would, given a particular word, return the frequencies of that word in both corpora."
   ]
  },
  {
   "cell_type": "code",
   "execution_count": 70,
   "metadata": {
    "collapsed": false
   },
   "outputs": [
    {
     "name": "stdout",
     "output_type": "stream",
     "text": [
      "[[41, 17, 6, 14], [5, 2, 0, 1]]\n",
      "[[4, 0, 1, 1], [32, 25, 1, 22]]\n",
      "[[343, 346, 85, 182], [929, 405, 8, 456]]\n",
      "[[823, 737, 208, 518], [1497, 509, 14, 779]]\n"
     ]
    }
   ],
   "source": [
    "def get_counts_in_corpora(token, corpus_one, corpus_two):\n",
    "    \"\"\"Take two corpora, represented as lists of frequency distributions, and token query.\n",
    "    Return the frequency of that token in all the texts in the corpus. The result\n",
    "    Should be a list of two lists, one for each text.\"\"\"\n",
    "    corpus_one_counts = [text_freq_dist[token] for text_freq_dist in corpus_one]\n",
    "    corpus_two_counts = [text_freq_dist[token] for text_freq_dist in corpus_two]\n",
    "    return  [corpus_one_counts, corpus_two_counts]\n",
    "\n",
    "print(get_counts_in_corpora('evidence', doyle_freq_dist, bronte_freq_dist))\n",
    "print(get_counts_in_corpora('reader', doyle_freq_dist, bronte_freq_dist))\n",
    "print(get_counts_in_corpora('!', doyle_freq_dist, bronte_freq_dist))\n",
    "print(get_counts_in_corpora('?', doyle_freq_dist, bronte_freq_dist))\n"
   ]
  },
  {
   "cell_type": "markdown",
   "metadata": {},
   "source": [
    "We now have an easy way to get the total counts for any word, and we could get one corpus or the other by slicing the one list out:"
   ]
  },
  {
   "cell_type": "code",
   "execution_count": 72,
   "metadata": {
    "collapsed": false
   },
   "outputs": [
    {
     "name": "stdout",
     "output_type": "stream",
     "text": [
      "[343, 346, 85, 182]\n",
      "[929, 405, 8, 456]\n"
     ]
    }
   ],
   "source": [
    "results = get_counts_in_corpora('!', doyle_freq_dist, bronte_freq_dist)\n",
    "corpus_one_results = results[0]\n",
    "corpus_two_results = results[1]\n",
    "\n",
    "print(corpus_one_results)\n",
    "print(corpus_two_results)"
   ]
  },
  {
   "cell_type": "markdown",
   "metadata": {},
   "source": [
    "We could go far deeper in text analysis, and there are many ways to adapt statistical methods and machine learning to your text analysis pipeline to develop sophisticated ways of reading texts from a distance. Keep going if you're interested! We're happy to talk more. "
   ]
  },
  {
   "cell_type": "markdown",
   "metadata": {},
   "source": [
    "## Visualization"
   ]
  },
  {
   "cell_type": "markdown",
   "metadata": {},
   "source": [
    "Just as there are all sorts of ways to dig into text analysis, visualization methods are a vast topic in their own way. We just want to give you a couple of methods to whet your appetite. Here are a few.\n",
    "\n",
    "A dispersion plot gives you a rough indication of the word usage in a particular text, and it has the added benefit of showing where particular usages cluster. You can pass a list of terms to it."
   ]
  },
  {
   "cell_type": "code",
   "execution_count": 95,
   "metadata": {
    "collapsed": false
   },
   "outputs": [
    {
     "data": {
      "image/png": "[encoded data removed]",
      "text/plain": [
       "<matplotlib.figure.Figure at 0x11fe06358>"
      ]
     },
     "metadata": {},
     "output_type": "display_data"
    },
    {
     "data": {
      "image/png": "[encoded data removed]",
      "text/plain": [
       "<matplotlib.figure.Figure at 0x11fe8f828>"
      ]
     },
     "metadata": {},
     "output_type": "display_data"
    }
   ],
   "source": [
    "nltk.Text(doyle[0]).dispersion_plot(['evidence', 'clue', 'science', 'love', 'say', 'said'])\n",
    "nltk.Text(bronte[0]).dispersion_plot(['evidence', 'clue', 'science', 'love', 'say', 'said'])"
   ]
  },
  {
   "cell_type": "markdown",
   "metadata": {},
   "source": [
    "Looking at the above, we can see that 'say' and 'said' are much more frequent than other terms frequently associated with Sherlock Holmes. But we can also see that 'love' shows up far more in this Bronte text than it did in the Sherlock Holmes text. It would be even better if we could represent them on the same plot, and we can, using a slightly more complicated nltk function. If you're interested, you might try exploring NLTK's ConditionalFreqDist class."
   ]
  },
  {
   "cell_type": "markdown",
   "metadata": {},
   "source": [
    "For the sake of simplicity, we will stop there. But if you want to learn more about visualization, you'll want to explore the [matplotlib](http://nbviewer.jupyter.org/github/jakevdp/PythonDataScienceHandbook/blob/master/notebooks/04.01-Simple-Line-Plots.ipynb) package."
   ]
  },
  {
   "cell_type": "markdown",
   "metadata": {},
   "source": [
    "## Exercises\n",
    "\n",
    "1. Use the above methods to find a meaningful point of comparison between the doyle corpus and the bronte corpus.\n",
    "2. Read in your own text and do something interesting with it.\n",
    "3. Plot multiple dispersion plots on the same plot using matplotlib."
   ]
  }
 ],
 "metadata": {
  "kernelspec": {
   "display_name": "Python 3",
   "language": "python",
   "name": "python3"
  }
 },
 "nbformat": 4,
 "nbformat_minor": 2
}
