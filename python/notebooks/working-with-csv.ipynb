{
 "cells": [
  {
   "cell_type": "markdown",
   "metadata": {
    "collapsed": true,
    "deletable": true,
    "editable": true
   },
   "source": [
    "As we've often discussed in the course, computers are dumb. I say this, writing weeks before the course actually meets, confident that we will say it at least once. Computers are very bad at inferring things, and your data needs to be clearly structured in order to work with it properly. Because of these difficulties, it is no accident that a number of different best practices have emerged for working with data. One of the most common formats for storing data that you will interact with is a Comma Separated Value (CSV) file. We will spend just a little time working with this file type today, as this form of data cleaning forms the basis for a lot of the work you are likely to do with Python. "
   ]
  },
  {
   "cell_type": "markdown",
   "metadata": {
    "deletable": true,
    "editable": true
   },
   "source": [
    "A CSV file is, just as it sounds, a series of data fields separated by commas, often with headers at the top. And there is one data field per line:\n",
    "```\n",
    "id,last_name, first_name, cool?\n",
    "0,reed,ethan,so cool\n",
    "1,walsh,brandon,the coolest\n",
    "```\n",
    "And so on. By keeping careful track of our data in this way we are essentially creating a spreadsheet. This is good, because computers are quite good at reading spreadsheets."
   ]
  },
  {
   "cell_type": "markdown",
   "metadata": {
    "deletable": true,
    "editable": true
   },
   "source": [
    "But first we will need some data on our computer. Let's try these commands from the terminal:"
   ]
  },
  {
   "cell_type": "markdown",
   "metadata": {
    "collapsed": true,
    "deletable": true,
    "editable": true
   },
   "source": [
    "```bash\n",
    "$ mkdir csvs\n",
    "$ curl http://humanitiesprogramming.github.io/python/notebooks/csvs/basic.csv > csvs/basic.csv\n",
    "```"
   ]
  },
  {
   "cell_type": "markdown",
   "metadata": {
    "deletable": true,
    "editable": true
   },
   "source": [
    "The first one should be pretty familiar, but what do you think the second command did? Let's break it down step by step.\n",
    "\n",
    "curl http://humanitiesprogramming.github.io/python/notebooks/csvs/basic.csv > basic.csv\n",
    "do_something the_thing_being_affected arrow filename\n",
    "\n",
    "The second piece is clearly a URL, and the fact that's a .csv extension suggests that it's some data of the filetype that we are discussing. The arrow suggests we're sending it somewhere. You got it! The curl command copies the contents of a URL. And the > sends the results of the thing on the left to the thing on the right. So we're saying \"Take the contents of this URL and save it in this filename that I've given you on the right."
   ]
  },
  {
   "cell_type": "markdown",
   "metadata": {
    "deletable": true,
    "editable": true
   },
   "source": [
    "Next, we'll pull in our newly created CSV file that we need. Notice the $'s have disappeared, so we're back in Python:"
   ]
  },
  {
   "cell_type": "code",
   "execution_count": 1,
   "metadata": {
    "collapsed": false,
    "deletable": true,
    "editable": true
   },
   "outputs": [
    {
     "name": "stdout",
     "output_type": "stream",
     "text": [
      "[['id', 'last_name', ' first_name', ' cool?'], ['0', 'reed', 'ethan', 'so cool'], ['1', 'walsh', 'brandon', 'the coolest']]\n"
     ]
    }
   ],
   "source": [
    "import csv\n",
    "with open('csvs/basic.csv', 'r') as csvfile:\n",
    "    our_reader = csv.reader(csvfile)\n",
    "    names = [row for row in our_reader]\n",
    "print(names)"
   ]
  },
  {
   "cell_type": "markdown",
   "metadata": {
    "deletable": true,
    "editable": true
   },
   "source": [
    "What I've done above is open the CSV file. Then, using the csv.reader function, we walk over the CSV file to see what is inside. The fourth line above is where we actually construct the data in a way we can work with it - we walk over every row in the table and smash those rows into a list called 'data'. At the end, data is a list of lists, and each sublist contains one row of the CSV file. We can use list indexing to explore parts of the data. We might be interested in the second row. Indexing once will give you the row you're interested in:"
   ]
  },
  {
   "cell_type": "code",
   "execution_count": 2,
   "metadata": {
    "collapsed": false,
    "deletable": true,
    "editable": true
   },
   "outputs": [
    {
     "name": "stdout",
     "output_type": "stream",
     "text": [
      "['0', 'reed', 'ethan', 'so cool']\n"
     ]
    }
   ],
   "source": [
    "print(names[1])"
   ]
  },
  {
   "cell_type": "markdown",
   "metadata": {
    "deletable": true,
    "editable": true
   },
   "source": [
    "Indexing twice will let you select first the row and then the column."
   ]
  },
  {
   "cell_type": "code",
   "execution_count": 3,
   "metadata": {
    "collapsed": false,
    "deletable": true,
    "editable": true
   },
   "outputs": [
    {
     "name": "stdout",
     "output_type": "stream",
     "text": [
      "ethan\n"
     ]
    }
   ],
   "source": [
    "print(names[1][2])"
   ]
  },
  {
   "cell_type": "markdown",
   "metadata": {
    "deletable": true,
    "editable": true
   },
   "source": [
    "Since these are just lists, we can do anything to them that we might want to do to lists."
   ]
  },
  {
   "cell_type": "code",
   "execution_count": 4,
   "metadata": {
    "collapsed": false,
    "deletable": true,
    "editable": true
   },
   "outputs": [
    {
     "name": "stdout",
     "output_type": "stream",
     "text": [
      "3\n",
      "11\n",
      "5\n",
      "7\n",
      " first_name\n",
      "['brandon', 'ethan', ' first_name']\n"
     ]
    }
   ],
   "source": [
    "print(len(names))\n",
    "\n",
    "# find the length of each first name\n",
    "for row in names:\n",
    "    print(len(row[2]))\n",
    "    \n",
    "# find the longest first name\n",
    "longest = \"\"\n",
    "for row in names:\n",
    "    if len(row[2]) > len(longest):\n",
    "        longest = row[2]\n",
    "print(longest)\n",
    "\n",
    "# construct a new list consisting of only the first names we have here.\n",
    "first_names = [row[2] for row in names]\n",
    "first_names.reverse()\n",
    "print(first_names)"
   ]
  },
  {
   "cell_type": "markdown",
   "metadata": {
    "deletable": true,
    "editable": true
   },
   "source": [
    "Since our CSV is just a list of lists, we could add to it by adding another row. And that's as easy as adding a new list:"
   ]
  },
  {
   "cell_type": "code",
   "execution_count": 5,
   "metadata": {
    "collapsed": false,
    "deletable": true,
    "editable": true
   },
   "outputs": [
    {
     "name": "stdout",
     "output_type": "stream",
     "text": [
      "[['id', 'last_name', ' first_name', ' cool?'], ['0', 'reed', 'ethan', 'so cool'], ['1', 'walsh', 'brandon', 'the coolest'], [2, 'wayne', 'graham', 'meh']]\n"
     ]
    }
   ],
   "source": [
    "new_row = [2,'wayne','graham','meh']\n",
    "names.append(new_row)\n",
    "print(names)"
   ]
  },
  {
   "cell_type": "markdown",
   "metadata": {
    "deletable": true,
    "editable": true
   },
   "source": [
    "We could go on and on, adding to our CSV one row at a time. Let's try something else."
   ]
  },
  {
   "cell_type": "code",
   "execution_count": 6,
   "metadata": {
    "collapsed": false,
    "deletable": true,
    "editable": true
   },
   "outputs": [
    {
     "data": {
      "text/plain": [
       "[['id', 'last_name', ' first_name', ' cool?'],\n",
       " ['0', 'reed', 'ethan', 'so cool'],\n",
       " ['1', 'walsh', 'brandon', 'the coolest'],\n",
       " [2, 'wayne', 'graham', 'meh'],\n",
       " 3,\n",
       " 'fox',\n",
       " 'eliza',\n",
       " 'SO COOL']"
      ]
     },
     "execution_count": 6,
     "metadata": {},
     "output_type": "execute_result"
    }
   ],
   "source": [
    "a_row = [3,'fox','eliza','SO COOL']\n",
    "names + a_row"
   ]
  },
  {
   "cell_type": "markdown",
   "metadata": {
    "deletable": true,
    "editable": true
   },
   "source": [
    "What happened? Take a look and see if you can tell.\n",
    "\n",
    "When we tried adding our new list to our collection of lists, it broke it apart and tried to add the individual items. You can tell this because the brackets disappear and we start getting rows of one item each."
   ]
  },
  {
   "cell_type": "markdown",
   "metadata": {
    "deletable": true,
    "editable": true
   },
   "source": [
    "We're starting to get to the point where we could use some more sophisticated ways of working with data. You might have noticed that I'm doing a LOT of looping. There are sometimes easier ways to work with your data than this. The way we're interacting with this CSV as a list of lists is really slow. There are other data structures that let you suck in a csv and, say, quickly get a particular column without having to loop over it first. If you're interested in learning better ways for interacting with there's a [great book on using Python for data science](https://github.com/jakevdp/PythonDataScienceHandbook) that I can't recommend enough. For the purposes of this lesson, though, we'll keep things simple.\n",
    "\n",
    "Another common thing that you'll want to do with CSV files is write them out. They're a common way of sharing data, and being able to get your data into them can offer a quick way to make your work more public. Rather than simply producing analyses of interesting data, you can also make your foundational resources public by sharing the CSV file. Let's start by getting something to write to the csv:"
   ]
  },
  {
   "cell_type": "code",
   "execution_count": 7,
   "metadata": {
    "collapsed": false,
    "deletable": true,
    "editable": true
   },
   "outputs": [],
   "source": [
    "with open('csvs/practice.csv', 'w', newline='') as fout:\n",
    "    csvwriter = csv.writer(fout)\n",
    "    for i in range(0, 100, 10):\n",
    "        csvwriter.writerow([i, i + 5, i + 10, i + 15, i + 20, i + 25, i +30])"
   ]
  },
  {
   "cell_type": "markdown",
   "metadata": {
    "deletable": true,
    "editable": true
   },
   "source": [
    "Above we open a new file and, using a range, write out to that csv file. Did it work? We can check using the things we've already learned!"
   ]
  },
  {
   "cell_type": "code",
   "execution_count": 8,
   "metadata": {
    "collapsed": false,
    "deletable": true,
    "editable": true
   },
   "outputs": [
    {
     "data": {
      "text/plain": [
       "[['0', '5', '10', '15', '20', '25', '30'],\n",
       " ['10', '15', '20', '25', '30', '35', '40'],\n",
       " ['20', '25', '30', '35', '40', '45', '50'],\n",
       " ['30', '35', '40', '45', '50', '55', '60'],\n",
       " ['40', '45', '50', '55', '60', '65', '70'],\n",
       " ['50', '55', '60', '65', '70', '75', '80'],\n",
       " ['60', '65', '70', '75', '80', '85', '90'],\n",
       " ['70', '75', '80', '85', '90', '95', '100'],\n",
       " ['80', '85', '90', '95', '100', '105', '110'],\n",
       " ['90', '95', '100', '105', '110', '115', '120']]"
      ]
     },
     "execution_count": 8,
     "metadata": {},
     "output_type": "execute_result"
    }
   ],
   "source": [
    "with open('csvs/practice.csv', 'r') as fin:\n",
    "    our_reader = csv.reader(fin)\n",
    "    data = [row for row in our_reader]\n",
    "data"
   ]
  },
  {
   "cell_type": "markdown",
   "metadata": {
    "deletable": true,
    "editable": true
   },
   "source": [
    "Keep in mind that you'll need to put print() around a variable output to get it to print if you're working from a file! Using what we already know about indexing and element assignment in lists, we could modify particular elements and then write it back out to a CSV again."
   ]
  },
  {
   "cell_type": "code",
   "execution_count": 12,
   "metadata": {
    "collapsed": false,
    "deletable": true,
    "editable": true
   },
   "outputs": [
    {
     "data": {
      "text/plain": [
       "[['0', '5', '10', '15', '20', '25', '30'],\n",
       " ['10', '15', '20', '25', '30', '35', '40'],\n",
       " ['20', '25', '30', '35', '40', '45', 'Tony the cat'],\n",
       " ['30', '35', '40', '45', '50', 'Ethan', '60'],\n",
       " ['40', '45', '50', '55', '60', '65', '70'],\n",
       " ['50', '55', '60', '65', 'Brandon', '75', '80'],\n",
       " ['60', '65', '70', '75', '80', '85', '90'],\n",
       " ['70', '75', '80', '85', '90', '95', '100'],\n",
       " ['80', '85', '90', '95', '100', '105', '110'],\n",
       " ['90', '95', '100', '105', '110', '115', '120']]"
      ]
     },
     "execution_count": 12,
     "metadata": {},
     "output_type": "execute_result"
    }
   ],
   "source": [
    "data[3][5] = 'Ethan'\n",
    "data[5][4] = 'Brandon'\n",
    "data[2][6] = 'Tony the cat'\n",
    "\n",
    "with open('csvs/practice.csv', 'w', newline='') as fout:\n",
    "    csvwriter = csv.writer(fout)\n",
    "    for row in data:\n",
    "        csvwriter.writerow(row)\n",
    "        \n",
    "data"
   ]
  },
  {
   "cell_type": "markdown",
   "metadata": {
    "deletable": true,
    "editable": true
   },
   "source": [
    "Keep in mind that you'll need to put print around data if you're working from a file! Check out your 'practice.csv' file to see if it worked! Do you remember how to do this from the command line?"
   ]
  },
  {
   "cell_type": "markdown",
   "metadata": {
    "deletable": true,
    "editable": true
   },
   "source": [
    "$ cat csvs/practice.csv"
   ]
  },
  {
   "cell_type": "markdown",
   "metadata": {
    "deletable": true,
    "editable": true
   },
   "source": [
    "But maybe you want to get a little more nuanced than this. After all, we put things in CSV files because we care about their organization. Working with lists of lists gets confusing quickly. There's a more nuanced way of reading these files using the DictWriter and DictReader classes."
   ]
  },
  {
   "cell_type": "code",
   "execution_count": 13,
   "metadata": {
    "collapsed": false,
    "deletable": true,
    "editable": true
   },
   "outputs": [
    {
     "name": "stdout",
     "output_type": "stream",
     "text": [
      "[OrderedDict([('id', '0'), ('name', 'apple'), ('nutritious', 'True')]), OrderedDict([('id', '1'), ('name', 'banana'), ('nutritious', 'True')]), OrderedDict([('id', '2'), ('name', 'potato'), ('nutritious', 'True')]), OrderedDict([('id', '3'), ('name', \"ethan's heart\"), ('nutritious', 'True')]), OrderedDict([('id', '4'), ('name', 'puppy'), ('nutritious', 'False')])]\n"
     ]
    }
   ],
   "source": [
    "groceries = []\n",
    "with open('csvs/shopping.csv', 'r') as csvfile:\n",
    "    reader = csv.DictReader(csvfile)\n",
    "    for row in reader:\n",
    "        groceries.append(row)\n",
    "        \n",
    "print(groceries)"
   ]
  },
  {
   "cell_type": "markdown",
   "metadata": {
    "deletable": true,
    "editable": true
   },
   "source": [
    "We still can't easily get to all the values for single column, but it does allow us to query by the column name when we're looking at a particular item:"
   ]
  },
  {
   "cell_type": "code",
   "execution_count": 14,
   "metadata": {
    "collapsed": false,
    "deletable": true,
    "editable": true
   },
   "outputs": [
    {
     "name": "stdout",
     "output_type": "stream",
     "text": [
      "potato\n"
     ]
    }
   ],
   "source": [
    "print(groceries[2]['name'])"
   ]
  },
  {
   "cell_type": "markdown",
   "metadata": {
    "deletable": true,
    "editable": true
   },
   "source": [
    "We could get at a particular column by looping over the whole list."
   ]
  },
  {
   "cell_type": "code",
   "execution_count": 15,
   "metadata": {
    "collapsed": false,
    "deletable": true,
    "editable": true
   },
   "outputs": [
    {
     "name": "stdout",
     "output_type": "stream",
     "text": [
      "apple\n",
      "banana\n",
      "potato\n",
      "ethan's heart\n",
      "puppy\n"
     ]
    }
   ],
   "source": [
    "for item in groceries:\n",
    "    print(item['name'])"
   ]
  },
  {
   "cell_type": "markdown",
   "metadata": {
    "deletable": true,
    "editable": true
   },
   "source": [
    "The Pandas package that I mentioned above is far better for this sort of thing, so check it out if you start doing complicated things with large amounts of data. Just as there is a DictReader class, there is also a DictWriter class that allows you to write that data back out to a file. Let's add some things to our grocery list and then write it to a new file."
   ]
  },
  {
   "cell_type": "code",
   "execution_count": 16,
   "metadata": {
    "collapsed": false,
    "deletable": true,
    "editable": true
   },
   "outputs": [],
   "source": [
    "tony = {'name': 'tony', 'nutritious': 'False', 'id': '5'}\n",
    "\n",
    "groceries.append(tony)\n",
    "\n",
    "with open('csvs/updated_groceries.csv', 'w', newline='') as fout:\n",
    "    column_names = ['id', 'name', 'nutritious']\n",
    "    dictwriter = csv.DictWriter(fout, fieldnames=column_names)\n",
    "    dictwriter.writeheader()\n",
    "    for row in groceries:\n",
    "        dictwriter.writerow(row)"
   ]
  },
  {
   "cell_type": "markdown",
   "metadata": {
    "deletable": true,
    "editable": true
   },
   "source": [
    "Check out your file and see if it worked. If we left any fields out in the tony item, it would still get added to the csv. It would just have blank spaces where those fields would be. "
   ]
  },
  {
   "cell_type": "markdown",
   "metadata": {
    "deletable": true,
    "editable": true
   },
   "source": [
    "**Exercises**"
   ]
  },
  {
   "cell_type": "markdown",
   "metadata": {
    "deletable": true,
    "editable": true
   },
   "source": [
    "The following exercises ask you to work with a dataset of historical press reports on Jack the Ripper that was scrapped from the [Jack the Ripper Casebook](http://www.casebook.org/). More information about the dataset can be found [here](http://walshbr.com/blog/2016/12/12/ripper-dataset/). I've pulled out just the first 300 or so rows from the corpus for you to work with. The CSV file lives at this URL - http://humanitiesprogramming.github.io/python/notebooks/csvs/ripper.csv "
   ]
  },
  {
   "cell_type": "markdown",
   "metadata": {
    "deletable": true,
    "editable": true
   },
   "source": [
    "1. Adapt the above methods to get this CSV file onto your computer.\n",
    "2. Successfully read in the CSV and prove that you did it by printing out the first row.\n",
    "3. Get all the texts of the press reports and store it in a variable called 'all_texts'. Print this variable out.\n",
    "4. What is the earliest date that an article was published?\n",
    "5. Write a new CSV with all the same data as the original CSV, but lowercase all the texts for the press reports."
   ]
  },
  {
   "cell_type": "markdown",
   "metadata": {
    "deletable": true,
    "editable": true
   },
   "source": [
    "**Answers**\n",
    "Note: there are many approaches to any programming problem. You might use wildly different solutions than the ones described below!"
   ]
  },
  {
   "cell_type": "markdown",
   "metadata": {
    "deletable": true,
    "editable": true
   },
   "source": [
    "1. Potential Answer: \n",
    "\n",
    "$ curl http://humanitiesprogramming.github.io/python/notebooks/csvs/ripper.csv > csvs/ripper.csv"
   ]
  },
  {
   "cell_type": "code",
   "execution_count": 39,
   "metadata": {
    "collapsed": false,
    "deletable": true,
    "editable": true
   },
   "outputs": [
    {
     "data": {
      "text/plain": [
       "['0',\n",
       " 'index/aberdeen_weekly_journal_18830629.txt',\n",
       " 'aberdeen_weekly_journal',\n",
       " '1883-06-29',\n",
       " \"Abderdeen Weekly Journal29 June 1883\\tALLEGED WIFE MURDER IN LONDON -An inquest was held at St. Bartholomew's Hospital, London, yesterday, respecting the death of Sarah Ann Kelly, aged twenty-two, late of Cottage Lane, City Road, who is alleged to have died from injuries inflicted by her husband, James Kelly, now under remand at Clerkenwell.  The couple had only been married a fortnight.  Last Thursday they quarreled, and Kelly stabbed his wife several times.  The jury returned a verdict of willful murder. \"]"
      ]
     },
     "execution_count": 39,
     "metadata": {},
     "output_type": "execute_result"
    }
   ],
   "source": [
    "# 2. Potential Answer:\n",
    "\n",
    "import csv\n",
    "\n",
    "with open('csvs/ripper.csv', 'r') as fin:\n",
    "    reader = csv.reader(fin)\n",
    "    results = [row for row in reader]\n",
    "    \n",
    "results[0]"
   ]
  },
  {
   "cell_type": "code",
   "execution_count": 40,
   "metadata": {
    "collapsed": false,
    "deletable": true,
    "editable": true
   },
   "outputs": [
    {
     "name": "stdout",
     "output_type": "stream",
     "text": [
      "Abderdeen Weekly Journal29 June 1883\tALLEGED WIFE MURDER IN LONDON -An inquest was held at St. Bartholomew's Hospital, London, yesterday, respecting the death of Sarah Ann Kelly, aged twenty-two, late of Cottage Lane, City Road, who is alleged to have died from injuries inflicted by her husband, James Kelly, now under remand at Clerkenwell.  The couple had only been married a fortnight.  Last Thursday they quarreled, and Kelly stabbed his wife several times.  The jury returned a verdict of willful murder. \n",
      "Abderdeen Weekly Journal29 June 1883\tALLEGED WIFE MURDER IN LONDON -An inquest was held at St. Bartholomew's Hospital, London, yesterday, respecting the death of Sarah Ann Kelly, aged twenty-two, late of Cottage Lane, City Road, who is alleged to have died from injuries inflicted by her husband, James Kelly, now under remand at Clerkenwell.  The couple had only been married a fortnight.  Last Thursday they quarreled, and Kelly stabbed his wife several times.  The jury returned a verdict of willful murder. \n"
     ]
    }
   ],
   "source": [
    "# 3. Potential Answer:\n",
    "\n",
    "import csv\n",
    "\n",
    "with open('csvs/ripper.csv', 'r') as fin:\n",
    "    reader = csv.reader(fin)\n",
    "    results = [row[4] for row in reader]\n",
    "print(results[0])\n",
    "\n",
    "# or, slightly more verbose way:\n",
    "\n",
    "import csv\n",
    "\n",
    "with open('csvs/ripper.csv', 'r') as fin:\n",
    "    reader = csv.reader(fin)\n",
    "    results = [row for row in reader]\n",
    "    \n",
    "texts = [row[4] for row in results]\n",
    "print(texts[0])"
   ]
  },
  {
   "cell_type": "code",
   "execution_count": 41,
   "metadata": {
    "collapsed": false,
    "deletable": true,
    "editable": true
   },
   "outputs": [
    {
     "name": "stdout",
     "output_type": "stream",
     "text": [
      "1857-11-04\n"
     ]
    },
    {
     "data": {
      "text/plain": [
       "'Bonus! The date fields here are actually being interpreted as strings, \\nso you might run into problems trying to sort them (according to a string, 1, 2, 11 would be\\nsorted as 1, 11, 2). To parse them more thoroughly as dates you would need to import the\\ntime module.'"
      ]
     },
     "execution_count": 41,
     "metadata": {},
     "output_type": "execute_result"
    }
   ],
   "source": [
    "# 4. Potential answers\n",
    "\n",
    "import csv\n",
    "\n",
    "with open('csvs/ripper.csv', 'r') as fin:\n",
    "    reader = csv.reader(fin)\n",
    "    results = [row for row in reader]\n",
    "\n",
    "dates = [row[3] for row in results]\n",
    "print(min(dates))\n",
    "\n",
    "\"\"\"Bonus! The date fields here are actually being interpreted as strings, \n",
    "so you might run into problems trying to sort them (according to a string, 1, 2, 11 would be\n",
    "sorted as 1, 11, 2). To parse them more thoroughly as dates you would need to import the\n",
    "time module.\"\"\""
   ]
  },
  {
   "cell_type": "code",
   "execution_count": 42,
   "metadata": {
    "collapsed": false,
    "deletable": true,
    "editable": true
   },
   "outputs": [],
   "source": [
    "# 5. Potential answer\n",
    "\n",
    "import csv\n",
    "with open('csvs/ripper.csv', 'r') as fin:\n",
    "    reader = csv.reader(fin)\n",
    "    results = [row for row in reader]\n",
    "\n",
    "for row in results:\n",
    "    row[4] = row[4].lower()\n",
    "    \n",
    "with open('csvs/ripper_texts.csv', 'w') as fout:\n",
    "    writer = csv.writer(fout)\n",
    "    for row in results:\n",
    "        writer.writerow(row)\n"
   ]
  }
 ],
 "metadata": {
  "kernelspec": {
   "display_name": "Python 3",
   "language": "python",
   "name": "python3"
  },
  "language_info": {
   "codemirror_mode": {
    "name": "ipython",
    "version": 3
   },
   "file_extension": ".py",
   "mimetype": "text/x-python",
   "name": "python",
   "nbconvert_exporter": "python",
   "pygments_lexer": "ipython3",
   "version": "3.6.5"
  }
 },
 "nbformat": 4,
 "nbformat_minor": 2
}
